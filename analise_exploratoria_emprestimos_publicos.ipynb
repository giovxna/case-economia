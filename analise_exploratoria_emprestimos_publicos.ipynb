{
 "cells": [
  {
   "cell_type": "code",
   "execution_count": 44,
   "metadata": {},
   "outputs": [],
   "source": [
    "import pandas as pd \n",
    "import numpy as np\n",
    "\n",
    "import matplotlib.pyplot as plt\n",
    "import seaborn as sns"
   ]
  },
  {
   "cell_type": "code",
   "execution_count": 45,
   "metadata": {},
   "outputs": [],
   "source": [
    "# ajuste casas decimais \n",
    "pd.options.display.float_format = '{:,.2f}'.format"
   ]
  },
  {
   "cell_type": "code",
   "execution_count": 46,
   "metadata": {},
   "outputs": [],
   "source": [
    "#leitura e visualização dos dados\n",
    "\n",
    "base = pd.read_csv('Base_Dados - Operacoes Uniao.csv', encoding='latin1', sep=';')"
   ]
  },
  {
   "cell_type": "code",
   "execution_count": 47,
   "metadata": {},
   "outputs": [
    {
     "data": {
      "text/plain": [
       "Index(['Interessado', 'UF', 'Tipo_de_interessado', 'Tipo_de_operação',\n",
       "       'Finalidade', 'Tipo_de_credor', 'Credor', 'Moeda', 'Valor',\n",
       "       'Número_do_Processo/PVL', 'Código_IBGE', 'Status', 'Data',\n",
       "       'Analisado_por'],\n",
       "      dtype='object')"
      ]
     },
     "execution_count": 47,
     "metadata": {},
     "output_type": "execute_result"
    }
   ],
   "source": [
    "# alterações na base\n",
    "# tratamento colunas para padronizar\n",
    "\n",
    "base.columns = [Loop.replace(' ', '_') for Loop in base.columns]\n",
    "base.columns"
   ]
  },
  {
   "cell_type": "code",
   "execution_count": 48,
   "metadata": {},
   "outputs": [
    {
     "data": {
      "text/plain": [
       "Interessado                object\n",
       "UF                         object\n",
       "Tipo_de_interessado        object\n",
       "Tipo_de_operação           object\n",
       "Finalidade                 object\n",
       "Tipo_de_credor             object\n",
       "Credor                     object\n",
       "Moeda                      object\n",
       "Valor                      object\n",
       "Número_do_Processo/PVL     object\n",
       "Código_IBGE               float64\n",
       "Status                     object\n",
       "Data                       object\n",
       "Analisado_por              object\n",
       "dtype: object"
      ]
     },
     "execution_count": 48,
     "metadata": {},
     "output_type": "execute_result"
    }
   ],
   "source": [
    "base.dtypes"
   ]
  },
  {
   "cell_type": "code",
   "execution_count": 49,
   "metadata": {},
   "outputs": [
    {
     "data": {
      "text/plain": [
       "0     300,000.00\n",
       "1     172,700.00\n",
       "2     300,000.00\n",
       "3     187,200.00\n",
       "4   1,000,000.00\n",
       "Name: Valor, dtype: float64"
      ]
     },
     "execution_count": 49,
     "metadata": {},
     "output_type": "execute_result"
    }
   ],
   "source": [
    "# tratamento nos valores decimais\n",
    "\n",
    "base.Valor = base.Valor.apply( lambda Loop : Loop.replace('.', '') )\n",
    "base.Valor = base.Valor.apply( lambda Loop : Loop.replace(',', '.') )\n",
    "base.Valor = pd.to_numeric( base.Valor )\n",
    "\n",
    "base.Valor.head()"
   ]
  },
  {
   "cell_type": "code",
   "execution_count": 50,
   "metadata": {},
   "outputs": [],
   "source": [
    "# tratamento nas datas\n",
    "\n",
    "base.Data = pd.to_datetime( base.Data )"
   ]
  },
  {
   "cell_type": "code",
   "execution_count": 51,
   "metadata": {},
   "outputs": [
    {
     "data": {
      "text/html": [
       "<div>\n",
       "<style scoped>\n",
       "    .dataframe tbody tr th:only-of-type {\n",
       "        vertical-align: middle;\n",
       "    }\n",
       "\n",
       "    .dataframe tbody tr th {\n",
       "        vertical-align: top;\n",
       "    }\n",
       "\n",
       "    .dataframe thead th {\n",
       "        text-align: right;\n",
       "    }\n",
       "</style>\n",
       "<table border=\"1\" class=\"dataframe\">\n",
       "  <thead>\n",
       "    <tr style=\"text-align: right;\">\n",
       "      <th></th>\n",
       "      <th>Interessado</th>\n",
       "      <th>UF</th>\n",
       "      <th>Tipo_de_interessado</th>\n",
       "      <th>Tipo_de_operação</th>\n",
       "      <th>Finalidade</th>\n",
       "      <th>Tipo_de_credor</th>\n",
       "      <th>Credor</th>\n",
       "      <th>Moeda</th>\n",
       "      <th>Valor</th>\n",
       "      <th>Número_do_Processo/PVL</th>\n",
       "      <th>Código_IBGE</th>\n",
       "      <th>Status</th>\n",
       "      <th>Data</th>\n",
       "      <th>Analisado_por</th>\n",
       "    </tr>\n",
       "  </thead>\n",
       "  <tbody>\n",
       "    <tr>\n",
       "      <th>0</th>\n",
       "      <td>Abadia dos Dourados</td>\n",
       "      <td>MG</td>\n",
       "      <td>Município</td>\n",
       "      <td>Operação Contratual Interna</td>\n",
       "      <td>Provias 2009</td>\n",
       "      <td>Instituição Financeira Nacional</td>\n",
       "      <td>Caixa Econômica Federal</td>\n",
       "      <td>Real</td>\n",
       "      <td>300,000.00</td>\n",
       "      <td>00000.000000/0021-94</td>\n",
       "      <td>3,100,104.00</td>\n",
       "      <td>Devolvido</td>\n",
       "      <td>2009-08-19</td>\n",
       "      <td>STN</td>\n",
       "    </tr>\n",
       "    <tr>\n",
       "      <th>1</th>\n",
       "      <td>Abadia dos Dourados</td>\n",
       "      <td>MG</td>\n",
       "      <td>Município</td>\n",
       "      <td>Operação Contratual Interna</td>\n",
       "      <td>Caminho da Escola</td>\n",
       "      <td>Instituição Financeira Nacional</td>\n",
       "      <td>Caixa Econômica Federal</td>\n",
       "      <td>Real</td>\n",
       "      <td>172,700.00</td>\n",
       "      <td>17944.000104/2008-22</td>\n",
       "      <td>3,100,104.00</td>\n",
       "      <td>Arquivado</td>\n",
       "      <td>2008-04-17</td>\n",
       "      <td>STN</td>\n",
       "    </tr>\n",
       "    <tr>\n",
       "      <th>2</th>\n",
       "      <td>Abadia dos Dourados</td>\n",
       "      <td>MG</td>\n",
       "      <td>Município</td>\n",
       "      <td>Operação Contratual Interna</td>\n",
       "      <td>Provias 2009</td>\n",
       "      <td>Instituição Financeira Nacional</td>\n",
       "      <td>Caixa Econômica Federal</td>\n",
       "      <td>Real</td>\n",
       "      <td>300,000.00</td>\n",
       "      <td>17944.000953/2009-67</td>\n",
       "      <td>3,100,104.00</td>\n",
       "      <td>Deferido</td>\n",
       "      <td>2009-11-20</td>\n",
       "      <td>STN</td>\n",
       "    </tr>\n",
       "    <tr>\n",
       "      <th>3</th>\n",
       "      <td>Abadia dos Dourados</td>\n",
       "      <td>MG</td>\n",
       "      <td>Município</td>\n",
       "      <td>Operação Contratual Interna</td>\n",
       "      <td>Caminho da Escola 2009 A</td>\n",
       "      <td>Instituição Financeira Nacional</td>\n",
       "      <td>Caixa Econômica Federal</td>\n",
       "      <td>Real</td>\n",
       "      <td>187,200.00</td>\n",
       "      <td>17944.001037/2009-44</td>\n",
       "      <td>3,100,104.00</td>\n",
       "      <td>Deferido</td>\n",
       "      <td>2009-11-20</td>\n",
       "      <td>STN</td>\n",
       "    </tr>\n",
       "    <tr>\n",
       "      <th>4</th>\n",
       "      <td>Abadia dos Dourados</td>\n",
       "      <td>MG</td>\n",
       "      <td>Município</td>\n",
       "      <td>Operação Contratual Interna</td>\n",
       "      <td>Aquisição de máquinas, equipamentos e veículos</td>\n",
       "      <td>Instituição Financeira Nacional</td>\n",
       "      <td>Banco de Desenvolvimento de Minas Gerais S/A</td>\n",
       "      <td>Real</td>\n",
       "      <td>1,000,000.00</td>\n",
       "      <td>17944.001324/2013-31</td>\n",
       "      <td>3,100,104.00</td>\n",
       "      <td>Deferido</td>\n",
       "      <td>2013-06-11</td>\n",
       "      <td>STN</td>\n",
       "    </tr>\n",
       "  </tbody>\n",
       "</table>\n",
       "</div>"
      ],
      "text/plain": [
       "           Interessado  UF Tipo_de_interessado             Tipo_de_operação  \\\n",
       "0  Abadia dos Dourados  MG           Município  Operação Contratual Interna   \n",
       "1  Abadia dos Dourados  MG           Município  Operação Contratual Interna   \n",
       "2  Abadia dos Dourados  MG           Município  Operação Contratual Interna   \n",
       "3  Abadia dos Dourados  MG           Município  Operação Contratual Interna   \n",
       "4  Abadia dos Dourados  MG           Município  Operação Contratual Interna   \n",
       "\n",
       "                                       Finalidade  \\\n",
       "0                                    Provias 2009   \n",
       "1                               Caminho da Escola   \n",
       "2                                    Provias 2009   \n",
       "3                        Caminho da Escola 2009 A   \n",
       "4  Aquisição de máquinas, equipamentos e veículos   \n",
       "\n",
       "                    Tipo_de_credor  \\\n",
       "0  Instituição Financeira Nacional   \n",
       "1  Instituição Financeira Nacional   \n",
       "2  Instituição Financeira Nacional   \n",
       "3  Instituição Financeira Nacional   \n",
       "4  Instituição Financeira Nacional   \n",
       "\n",
       "                                         Credor Moeda        Valor  \\\n",
       "0                       Caixa Econômica Federal  Real   300,000.00   \n",
       "1                       Caixa Econômica Federal  Real   172,700.00   \n",
       "2                       Caixa Econômica Federal  Real   300,000.00   \n",
       "3                       Caixa Econômica Federal  Real   187,200.00   \n",
       "4  Banco de Desenvolvimento de Minas Gerais S/A  Real 1,000,000.00   \n",
       "\n",
       "  Número_do_Processo/PVL  Código_IBGE     Status       Data Analisado_por  \n",
       "0   00000.000000/0021-94 3,100,104.00  Devolvido 2009-08-19           STN  \n",
       "1   17944.000104/2008-22 3,100,104.00  Arquivado 2008-04-17           STN  \n",
       "2   17944.000953/2009-67 3,100,104.00   Deferido 2009-11-20           STN  \n",
       "3   17944.001037/2009-44 3,100,104.00   Deferido 2009-11-20           STN  \n",
       "4   17944.001324/2013-31 3,100,104.00   Deferido 2013-06-11           STN  "
      ]
     },
     "execution_count": 51,
     "metadata": {},
     "output_type": "execute_result"
    }
   ],
   "source": [
    "base.head()"
   ]
  }
 ],
 "metadata": {
  "kernelspec": {
   "display_name": "Python 3",
   "language": "python",
   "name": "python3"
  },
  "language_info": {
   "codemirror_mode": {
    "name": "ipython",
    "version": 3
   },
   "file_extension": ".py",
   "mimetype": "text/x-python",
   "name": "python",
   "nbconvert_exporter": "python",
   "pygments_lexer": "ipython3",
   "version": "3.7.8"
  }
 },
 "nbformat": 4,
 "nbformat_minor": 2
}
